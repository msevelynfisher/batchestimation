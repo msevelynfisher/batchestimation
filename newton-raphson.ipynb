{
 "cells": [
  {
   "cell_type": "code",
   "execution_count": 1,
   "metadata": {},
   "outputs": [],
   "source": [
    "import numpy as np\n",
    "import matplotlib.pyplot as plt"
   ]
  },
  {
   "cell_type": "code",
   "execution_count": 2,
   "metadata": {},
   "outputs": [],
   "source": [
    "def newton_raphson(f, Df, x0, true_err_max = 0.0, rel_err_max = 1e-3, i_max = 100, debug = False, plot = False):\n",
    "    # initial values\n",
    "    x = x0\n",
    "    true_err = np.inf\n",
    "    rel_err = np.inf\n",
    "    i = 0\n",
    "    \n",
    "    # track values\n",
    "    xs = []\n",
    "    fs = []\n",
    "    \n",
    "    # iterate\n",
    "    while true_err > true_err_max and rel_err > rel_err_max and i < i_max:\n",
    "        # iteration number\n",
    "        i += 1\n",
    "        # for computing approximate relative error\n",
    "        x_prev = x\n",
    "        # find f(x) and f'(x)\n",
    "        fx = f(x)\n",
    "        Dfx = Df(x)\n",
    "        # track values\n",
    "        xs.append(x)\n",
    "        fs.append(fx)\n",
    "        # update\n",
    "        x -= f(x) / Df(x)\n",
    "        # compute error measures\n",
    "        true_err = abs(fx)\n",
    "        rel_err = abs(x / x_prev - 1)\n",
    "        # debug if specified\n",
    "        if debug:\n",
    "            print('--------------------')\n",
    "            print(f'Iteration: {i}')\n",
    "            print(f'Estimate: {x:.6g}')\n",
    "            print(f'Delta: {rel_err:.3g}')\n",
    "    \n",
    "    # plot if specified\n",
    "    if plot:\n",
    "        plt.figure()\n",
    "        xi = np.linspace(min(xs), max(xs), 100)\n",
    "        yi = [f(xj) for xj in xi]\n",
    "        plt.plot(xi, yi, label = 'Function')\n",
    "        plt.scatter(xs, fs, label = 'Iteration Points', marker = '+')\n",
    "        plt.grid(True)\n",
    "    \n",
    "    # return best estimate\n",
    "    return x\n"
   ]
  },
  {
   "cell_type": "code",
   "execution_count": 3,
   "metadata": {},
   "outputs": [
    {
     "name": "stdout",
     "output_type": "stream",
     "text": [
      "--------------------\n",
      "Iteration: 1\n",
      "Estimate: 1.27067\n",
      "Delta: 0.365\n",
      "--------------------\n",
      "Iteration: 2\n",
      "Estimate: 0.831957\n",
      "Delta: 0.345\n",
      "--------------------\n",
      "Iteration: 3\n",
      "Estimate: 0.702351\n",
      "Delta: 0.156\n",
      "--------------------\n",
      "Iteration: 4\n",
      "Estimate: 0.693189\n",
      "Delta: 0.013\n",
      "--------------------\n",
      "Iteration: 5\n",
      "Estimate: 0.693147\n",
      "Delta: 6.09e-05\n"
     ]
    },
    {
     "data": {
      "image/png": "[encoded data removed]",
      "text/plain": [
       "<Figure size 432x288 with 1 Axes>"
      ]
     },
     "metadata": {
      "needs_background": "light"
     },
     "output_type": "display_data"
    }
   ],
   "source": [
    "# example usage\n",
    "f = lambda x: np.exp(x) - 2\n",
    "Df = lambda x: np.exp(x)\n",
    "root = newton_raphson(f, Df, 2.0, debug = True, plot = True)\n"
   ]
  },
  {
   "cell_type": "code",
   "execution_count": null,
   "metadata": {},
   "outputs": [],
   "source": []
  }
 ],
 "metadata": {
  "kernelspec": {
   "display_name": "Python 3",
   "language": "python",
   "name": "python3"
  },
  "language_info": {
   "codemirror_mode": {
    "name": "ipython",
    "version": 3
   },
   "file_extension": ".py",
   "mimetype": "text/x-python",
   "name": "python",
   "nbconvert_exporter": "python",
   "pygments_lexer": "ipython3",
   "version": "3.8.3"
  }
 },
 "nbformat": 4,
 "nbformat_minor": 4
}

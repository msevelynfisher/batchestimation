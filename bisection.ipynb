{
 "cells": [
  {
   "cell_type": "code",
   "execution_count": 1,
   "metadata": {},
   "outputs": [],
   "source": [
    "import numpy as np\n",
    "import matplotlib.pyplot as plt"
   ]
  },
  {
   "cell_type": "code",
   "execution_count": 11,
   "metadata": {},
   "outputs": [],
   "source": [
    "def bisection(f, xl0, xr0, true_err_max = 0.0, rel_err_max = 1e-3, i_max = 100, debug = False, plot = False):\n",
    "    # initial values\n",
    "    xl = min(xl0, xr0)\n",
    "    xr = max(xl0, xr0)\n",
    "    fxl = f(xl)\n",
    "    fxr = f(xr)\n",
    "    true_err = np.inf\n",
    "    rel_err = np.inf\n",
    "    i = 0\n",
    "    \n",
    "    # track values\n",
    "    xls = []\n",
    "    xrs = []\n",
    "    \n",
    "    # iterate\n",
    "    while true_err > true_err_max and rel_err > rel_err_max and i < i_max:\n",
    "        # iteration number\n",
    "        i += 1\n",
    "        # find midpoint\n",
    "        xc = 0.5 * (xl + xr)\n",
    "        fxc = f(xc)\n",
    "        # track values\n",
    "        xls.append(xl)\n",
    "        xrs.append(xr)\n",
    "        # update\n",
    "        if fxc * fxl > 0:\n",
    "            xl = xc\n",
    "            fxl = fxc\n",
    "        else:\n",
    "            xr = xc\n",
    "            fxr = fxc\n",
    "        # compute error measures\n",
    "        true_err = abs(fxc)\n",
    "        rel_err = abs(xl / xr - 1)\n",
    "        # debug if specified\n",
    "        if debug:\n",
    "            print('--------------------')\n",
    "            print(f'Iteration: {i}')\n",
    "            print(f'Estimate: {xc:.6g}')\n",
    "            print(f'Delta: {rel_err:.3g}')\n",
    "    \n",
    "    # plot if specified\n",
    "    if plot:\n",
    "        plt.figure()\n",
    "        plt.plot(xls, label = 'Function')\n",
    "        plt.plot(xrs, label = 'Function')\n",
    "        plt.grid(True)\n",
    "        plt.xlabel('Iteration Number')\n",
    "        plt.ylabel('Bounding x-Values')\n",
    "    \n",
    "    # return best estimate\n",
    "    return xc\n"
   ]
  },
  {
   "cell_type": "code",
   "execution_count": 14,
   "metadata": {},
   "outputs": [
    {
     "name": "stdout",
     "output_type": "stream",
     "text": [
      "--------------------\n",
      "Iteration: 1\n",
      "Estimate: 0\n",
      "Delta: 1\n",
      "--------------------\n",
      "Iteration: 2\n",
      "Estimate: 1\n",
      "Delta: 1\n",
      "--------------------\n",
      "Iteration: 3\n",
      "Estimate: 0.5\n",
      "Delta: 0.5\n",
      "--------------------\n",
      "Iteration: 4\n",
      "Estimate: 0.75\n",
      "Delta: 0.333\n",
      "--------------------\n",
      "Iteration: 5\n",
      "Estimate: 0.625\n",
      "Delta: 0.167\n",
      "--------------------\n",
      "Iteration: 6\n",
      "Estimate: 0.6875\n",
      "Delta: 0.0833\n",
      "--------------------\n",
      "Iteration: 7\n",
      "Estimate: 0.71875\n",
      "Delta: 0.0435\n",
      "--------------------\n",
      "Iteration: 8\n",
      "Estimate: 0.703125\n",
      "Delta: 0.0222\n",
      "--------------------\n",
      "Iteration: 9\n",
      "Estimate: 0.695312\n",
      "Delta: 0.0112\n",
      "--------------------\n",
      "Iteration: 10\n",
      "Estimate: 0.691406\n",
      "Delta: 0.00562\n",
      "--------------------\n",
      "Iteration: 11\n",
      "Estimate: 0.693359\n",
      "Delta: 0.00282\n",
      "--------------------\n",
      "Iteration: 12\n",
      "Estimate: 0.692383\n",
      "Delta: 0.00141\n",
      "--------------------\n",
      "Iteration: 13\n",
      "Estimate: 0.692871\n",
      "Delta: 0.000704\n"
     ]
    },
    {
     "data": {
      "image/png": "[encoded data removed]",
      "text/plain": [
       "<Figure size 432x288 with 1 Axes>"
      ]
     },
     "metadata": {
      "needs_background": "light"
     },
     "output_type": "display_data"
    }
   ],
   "source": [
    "# example usage\n",
    "f = lambda x: np.exp(x) - 2\n",
    "root = bisection(f, -2.0, 2.0, debug = True, plot = True)\n"
   ]
  }
 ],
 "metadata": {
  "kernelspec": {
   "display_name": "Python 3",
   "language": "python",
   "name": "python3"
  },
  "language_info": {
   "codemirror_mode": {
    "name": "ipython",
    "version": 3
   },
   "file_extension": ".py",
   "mimetype": "text/x-python",
   "name": "python",
   "nbconvert_exporter": "python",
   "pygments_lexer": "ipython3",
   "version": "3.8.3"
  }
 },
 "nbformat": 4,
 "nbformat_minor": 4
}

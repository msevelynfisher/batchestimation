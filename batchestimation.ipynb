{
 "cells": [
  {
   "cell_type": "code",
   "execution_count": 54,
   "metadata": {},
   "outputs": [],
   "source": [
    "import numpy as np\n",
    "import matplotlib.pyplot as plt"
   ]
  },
  {
   "cell_type": "code",
   "execution_count": 86,
   "metadata": {},
   "outputs": [
    {
     "data": {
      "text/plain": [
       "<matplotlib.legend.Legend at 0x7f28406d8a60>"
      ]
     },
     "execution_count": 86,
     "metadata": {},
     "output_type": "execute_result"
    },
    {
     "data": {
      "image/png": "[encoded data removed]",
      "text/plain": [
       "<Figure size 432x288 with 1 Axes>"
      ]
     },
     "metadata": {
      "needs_background": "light"
     },
     "output_type": "display_data"
    }
   ],
   "source": [
    "# True Values\n",
    "T0 = 310.0\n",
    "k = 5.0\n",
    "t = np.linspace(0.0, 1.0, 500)\n",
    "T = T0 + (280 - T0) * np.exp(-k * t)\n",
    "\n",
    "# Measured Values (Ti is true)\n",
    "ti = np.linspace(0.0, 1.0, 10)\n",
    "Ti = T0 + (280 - T0) * np.exp(-k * ti)\n",
    "Yi = np.random.normal(loc = Ti, scale = 3.0)\n",
    "\n",
    "# Plot\n",
    "\n",
    "plt.figure()\n",
    "\n",
    "plt.plot(t, T, label = 'True')\n",
    "plt.scatter(ti, Yi, label = 'Measured', marker='+')\n",
    "\n",
    "plt.grid(True)\n",
    "plt.xlabel('Time [s]')\n",
    "plt.ylabel('Temperature [K]')\n",
    "plt.legend()"
   ]
  },
  {
   "cell_type": "code",
   "execution_count": 87,
   "metadata": {},
   "outputs": [
    {
     "name": "stdout",
     "output_type": "stream",
     "text": [
      "Estimates\n",
      "Initial Temperature [K]:  275.0\n",
      "External Termperature [K]:  309.5\n",
      "Cooling Constant [s^-1]:  4.56\n"
     ]
    }
   ],
   "source": [
    "# Initial Reference Trajectory\n",
    "\n",
    "Xref0 = np.array([\n",
    "    [ Yi[0]  ], # estimate of initial temperature\n",
    "    [ Yi[-1] ], # estimate of final temperature\n",
    "    [ 1.0    ]  # guess for k\n",
    "])\n",
    "\n",
    "# Iterate w.r.t. Reference Trajectory\n",
    "\n",
    "for i in range(10):\n",
    "\n",
    "    # Iterate in time\n",
    "\n",
    "    t_past = 0.0\n",
    "    t_now = 0.0\n",
    "    Xref = np.copy(Xref0)\n",
    "    phi = np.identity(3)\n",
    "    Lambda = 0.0 * phi\n",
    "    N = np.zeros((3, 1), dtype=float)\n",
    "\n",
    "    for i in range(ti.size):\n",
    "        # update time\n",
    "        t_past = t_now\n",
    "        t_now = ti[i]\n",
    "        # update trajectory (single step of Forward Euler Method)\n",
    "        Xref_dot = np.array([\n",
    "            [ Xref[2, 0] * (Xref[1, 0] - Xref[0, 0]) ],\n",
    "            [ 0.0                                    ],\n",
    "            [ 0.0                                    ]\n",
    "        ])\n",
    "        A = np.array([\n",
    "            [ -Xref[2, 0], Xref[2, 0], Xref[1, 0] - Xref[0, 0] ],\n",
    "            [ 0.0,         0.0,        0.0                     ],\n",
    "            [ 0.0,         0.0,        0.0                     ]\n",
    "        ])\n",
    "        phi_dot = A @ phi\n",
    "        Xref += Xref_dot * (t_now - t_past)\n",
    "        phi += phi_dot * (t_now - t_past)\n",
    "        # accumulate current observation\n",
    "        H_tilde_i = np.array([\n",
    "            [ 1.0, 0.0, 0.0 ]\n",
    "        ])\n",
    "        y_i = Yi[i] - Xref[0, 0]\n",
    "        H_i = H_tilde_i @ phi\n",
    "        Lambda += H_i.transpose() @ H_i\n",
    "        N += H_i.transpose() @ np.array([[y_i]])\n",
    "        # for plotting\n",
    "\n",
    "    # Update start of trajectory\n",
    "    \n",
    "    x0 = np.linalg.inv(Lambda) @ N\n",
    "    Xref0 += x0\n",
    "\n",
    "print('Estimates')\n",
    "print(f'Initial Temperature [K]: {Xref0[0, 0]: .1f}')\n",
    "print(f'External Termperature [K]: {Xref0[1, 0]: .1f}')\n",
    "print(f'Cooling Constant [s^-1]: {Xref0[2, 0]: .2f}')"
   ]
  },
  {
   "cell_type": "code",
   "execution_count": 88,
   "metadata": {},
   "outputs": [
    {
     "data": {
      "text/plain": [
       "<matplotlib.legend.Legend at 0x7f28404615b0>"
      ]
     },
     "execution_count": 88,
     "metadata": {},
     "output_type": "execute_result"
    },
    {
     "data": {
      "image/png": "[encoded data removed]",
      "text/plain": [
       "<Figure size 432x288 with 1 Axes>"
      ]
     },
     "metadata": {
      "needs_background": "light"
     },
     "output_type": "display_data"
    }
   ],
   "source": [
    "# a posteriori\n",
    "\n",
    "T_est = Xref0[1, 0] + (280 - Xref0[1, 0]) * np.exp(-Xref0[2, 0] * t)\n",
    "\n",
    "# Plot\n",
    "\n",
    "plt.figure()\n",
    "\n",
    "plt.plot(t, T, label = 'True')\n",
    "plt.scatter(ti, Yi, label = 'Measured', marker='+')\n",
    "plt.plot(t, T_est, label = 'Estimate')\n",
    "\n",
    "\n",
    "plt.grid(True)\n",
    "plt.xlabel('Time [s]')\n",
    "plt.ylabel('Temperature [K]')\n",
    "plt.legend()"
   ]
  },
  {
   "cell_type": "code",
   "execution_count": null,
   "metadata": {},
   "outputs": [],
   "source": []
  }
 ],
 "metadata": {
  "kernelspec": {
   "display_name": "Python 3",
   "language": "python",
   "name": "python3"
  },
  "language_info": {
   "codemirror_mode": {
    "name": "ipython",
    "version": 3
   },
   "file_extension": ".py",
   "mimetype": "text/x-python",
   "name": "python",
   "nbconvert_exporter": "python",
   "pygments_lexer": "ipython3",
   "version": "3.8.3"
  }
 },
 "nbformat": 4,
 "nbformat_minor": 4
}
